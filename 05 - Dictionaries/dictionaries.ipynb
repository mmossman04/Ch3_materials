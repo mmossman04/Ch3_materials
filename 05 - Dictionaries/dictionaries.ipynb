{
 "cells": [
  {
   "cell_type": "markdown",
   "metadata": {},
   "source": [
    "# Dictionaries\n",
    "---\n",
    "\n",
    "[Watch a walk-through of this lesson on YouTube](https://youtu.be/Owig-7vPyPU)\n",
    "\n"
   ]
  },
  {
   "cell_type": "markdown",
   "metadata": {},
   "source": [
    "## Questions:\n",
    "- How can I organize data to store values associated with labels?\n",
    "- How do I work with such data structures?\n",
    "\n",
    "## Learning Objectives:\n",
    "- Be able to store data in dictionaries\n",
    "- Be able to retrieve specific items from dictionaries\n",
    "---"
   ]
  },
  {
   "cell_type": "markdown",
   "metadata": {},
   "source": [
    "## Dictionaries are mappings\n",
    "\n",
    "- Python provides a valuable data type called the **dictionary** (often abbreviated as \"dict\")\n",
    "- Dictionaries are *collections* — Python data types that store multiple values — like lists or strings\n",
    "- However, dictionaries are *mappings*. Like a traditional dictionary that contains a word, followed by a definition, dictionaries are pairings of **keys** and **values**\n",
    "- A dictionary can be defined using curly braces that specify key-value mappings using the colon (`:`)\n",
    "- For example, the following defines a dictionary with four keys (`First Name`, `Last Name`, etc.), each with an associated value:\n",
    "\n",
    "~~~python\n",
    "my_info = {'First Name':'Annikki', \n",
    "           'Last Name':'Bogdana', \n",
    "           'Age':15, \n",
    "           'Height':1.66}\n",
    "~~~\n"
   ]
  },
  {
   "cell_type": "code",
   "execution_count": 13,
   "metadata": {
    "collapsed": false,
    "jupyter": {
     "outputs_hidden": false
    }
   },
   "outputs": [],
   "source": [
    "my_info = {'first name': 'Anniki', 'last name': 'Bogdana', 'age': 15, 'height':1.66}"
   ]
  },
  {
   "cell_type": "markdown",
   "metadata": {},
   "source": [
    "- Like lists, dictionaries can contain a mixture of data types. \n",
    "- Dictionary **keys** must be an *immutable* type, such as a string or number (int or float). This is because dictionaries are organized by keys, and once a key is defined, it cannot be changed. \n",
    "- Dictionary **values** can be any type. \n",
    "\n",
    "The values in a dictionary are accessed using their keys inside square brackets:\n",
    "\n",
    "~~~python\n",
    "my_info['First Name']\n",
    "~~~"
   ]
  },
  {
   "cell_type": "code",
   "execution_count": 14,
   "metadata": {
    "collapsed": false,
    "jupyter": {
     "outputs_hidden": false
    }
   },
   "outputs": [
    {
     "data": {
      "text/plain": [
       "'Anniki'"
      ]
     },
     "execution_count": 14,
     "metadata": {},
     "output_type": "execute_result"
    }
   ],
   "source": [
    "my_info['first name']"
   ]
  },
  {
   "cell_type": "markdown",
   "metadata": {},
   "source": [
    "## Why Dictionaries?"
   ]
  },
  {
   "cell_type": "markdown",
   "metadata": {},
   "source": [
    "- Dictionaries provide a convenient way for labelling data. For example, in the previous lesson on lists, we used an example of a list of life expectancies for a country (Canada) for different years:\n",
    "\n",
    "~~~python\n",
    "life_exp = [48.1, 56.6, 64.0, 71.0, 75.2, 79.2]\n",
    "~~~\n",
    "\n",
    "- One limitation of using list like this, is that we don't know what years the values are associated with. For example, in what year was 48.1 the average life expectancy?\n",
    "\n",
    "- Dictionaries solve this problem, because we can use the keys to label the data. For example define the following dictionary in which keys indicated years, and values are life expectancies:\n",
    "\n",
    "~~~python\n",
    "life_exp = {1900:48.1, 1920:56.6, 1940:64.0, 1960:71.0, 1980:75.2, 2000:79.2}\n",
    "~~~\n",
    "\n",
    "- In defining a dictionary, we use **curly braces {}** \n",
    "- We associate keys and values with a colon **`:`**"
   ]
  },
  {
   "cell_type": "code",
   "execution_count": 15,
   "metadata": {
    "collapsed": false,
    "jupyter": {
     "outputs_hidden": false
    }
   },
   "outputs": [],
   "source": [
    "life_exp = [48.1, 56.6, 64.0, 71.0, 75.2, 79.2]\n",
    "life_exp = {1900:48.1, 1920:56.6, 1940:64.0, 1960:71.0, 1980:75.2, 2000:79.2}"
   ]
  },
  {
   "cell_type": "markdown",
   "metadata": {},
   "source": [
    "- Now we can see the life expectancy associated with a given year like so:\n",
    "\n",
    "~~~python\n",
    "life_exp[1940]\n",
    "~~~"
   ]
  },
  {
   "cell_type": "code",
   "execution_count": 16,
   "metadata": {
    "collapsed": false,
    "jupyter": {
     "outputs_hidden": false
    }
   },
   "outputs": [
    {
     "data": {
      "text/plain": [
       "64.0"
      ]
     },
     "execution_count": 16,
     "metadata": {},
     "output_type": "execute_result"
    }
   ],
   "source": [
    "life_exp[1940]"
   ]
  },
  {
   "cell_type": "markdown",
   "metadata": {},
   "source": [
    "- What happens if we ask for a key that doesn't exist?\n",
    "\n",
    "~~~python\n",
    "life_exp[2021]\n",
    "~~~"
   ]
  },
  {
   "cell_type": "code",
   "execution_count": 17,
   "metadata": {
    "collapsed": false,
    "jupyter": {
     "outputs_hidden": false
    }
   },
   "outputs": [
    {
     "ename": "KeyError",
     "evalue": "2021",
     "output_type": "error",
     "traceback": [
      "\u001b[31m---------------------------------------------------------------------------\u001b[39m",
      "\u001b[31mKeyError\u001b[39m                                  Traceback (most recent call last)",
      "\u001b[36mCell\u001b[39m\u001b[36m \u001b[39m\u001b[32mIn[17]\u001b[39m\u001b[32m, line 1\u001b[39m\n\u001b[32m----> \u001b[39m\u001b[32m1\u001b[39m \u001b[43mlife_exp\u001b[49m\u001b[43m[\u001b[49m\u001b[32;43m2021\u001b[39;49m\u001b[43m]\u001b[49m\n",
      "\u001b[31mKeyError\u001b[39m: 2021"
     ]
    }
   ],
   "source": [
    "life_exp[2021]"
   ]
  },
  {
   "cell_type": "markdown",
   "metadata": {},
   "source": [
    "- We get a specific type of error called a KeyError, which tells us that the key isn't defined"
   ]
  },
  {
   "cell_type": "markdown",
   "metadata": {},
   "source": [
    "## Dictionaries are mutable \n",
    "\n",
    "- We previously discussed the difference between *immutable* types like strings — whose contents cannot be changed — and *mutable* types like lists — which can be changed. Dictionaries are mutable.\n",
    "- This means we can:\n",
    "    - add new key:value pairs after the dictionary is first defined, and \n",
    "    - modify the values associated with existing keys\n",
    "- For example, we can add a new key:value pair by using the dict name plus square brackets to specify a new key, followed by `=` to assign the value to this key:\n",
    "\n",
    "~~~python\n",
    "life_exp[2020] = 83.2\n",
    "print(life_exp)\n",
    "~~~"
   ]
  },
  {
   "cell_type": "code",
   "execution_count": null,
   "metadata": {
    "collapsed": false,
    "jupyter": {
     "outputs_hidden": false
    }
   },
   "outputs": [
    {
     "name": "stdout",
     "output_type": "stream",
     "text": [
      "{1900: 48.1, 1920: 56.6, 1940: 64.0, 1960: 71.0, 1980: 75.2, 2000: 79.2, 2020: 83.2}\n"
     ]
    }
   ],
   "source": [
    "life_exp[2020] = 83.2\n",
    "print(life_exp)"
   ]
  },
  {
   "cell_type": "markdown",
   "metadata": {},
   "source": [
    "- We can also change the value for an existing key in the same way. In the example above we assigned the wrong value to 2020; it should be 82.3 not 83.2. So we can fix it like this:\n",
    "\n",
    "~~~python\n",
    "life_exp[2020] = 82.3\n",
    "print(life_exp)\n",
    "~~~\n",
    "\n",
    "- Note that Python doesn't warn you if you're overwriting a value associated with an existing key."
   ]
  },
  {
   "cell_type": "code",
   "execution_count": null,
   "metadata": {
    "collapsed": false,
    "jupyter": {
     "outputs_hidden": false
    }
   },
   "outputs": [
    {
     "name": "stdout",
     "output_type": "stream",
     "text": [
      "{1900: 48.1, 1920: 56.6, 1940: 64.0, 1960: 71.0, 1980: 75.2, 2000: 79.2, 2020: 82.3}\n"
     ]
    }
   ],
   "source": [
    "life_exp[2020] = 82.3\n",
    "print(life_exp)"
   ]
  },
  {
   "cell_type": "markdown",
   "metadata": {},
   "source": [
    "### Dictionary keys cannot be renamed\n",
    "- Although dictionaries are mutable, we can't rename dictionary *keys*. However, we can delete existing entries and create new ones if we need to. \n",
    "- For example, below we add a life expectancy value for the year 2040, but we mistakenly make the key a string instead of an integer like the other, existing keys:\n",
    "\n",
    "~~~python\n",
    "life_exp['2040'] = 85.1\n",
    "print(life_exp)\n",
    "~~~"
   ]
  },
  {
   "cell_type": "code",
   "execution_count": null,
   "metadata": {
    "collapsed": false,
    "jupyter": {
     "outputs_hidden": false
    }
   },
   "outputs": [
    {
     "name": "stdout",
     "output_type": "stream",
     "text": [
      "{1900: 48.1, 1920: 56.6, 1940: 64.0, 1960: 71.0, 1980: 75.2, 2000: 79.2, 2020: 82.3, '2040': 85.1}\n"
     ]
    }
   ],
   "source": [
    "life_exp['2040'] = 85.1\n",
    "print(life_exp)"
   ]
  },
  {
   "cell_type": "markdown",
   "metadata": {},
   "source": [
    "- We can add another entry using the correct (integer) key, but this doesn't delete the old entry:\n",
    "\n",
    "~~~python\n",
    "life_exp[2040] = 85.1\n",
    "print(life_exp)\n",
    "~~~"
   ]
  },
  {
   "cell_type": "markdown",
   "metadata": {},
   "source": [
    "- Alternatively, rather than manually entering the new value manually, we can copy it from the value corresponding to the original (incorrect) key:\n",
    "\n",
    "~~~python\n",
    "life_exp[2040] = life_exp['2040']\n",
    "print(life_exp)\n",
    "~~~"
   ]
  },
  {
   "cell_type": "code",
   "execution_count": 18,
   "metadata": {
    "collapsed": false,
    "jupyter": {
     "outputs_hidden": false
    }
   },
   "outputs": [
    {
     "ename": "KeyError",
     "evalue": "'2040'",
     "output_type": "error",
     "traceback": [
      "\u001b[31m---------------------------------------------------------------------------\u001b[39m",
      "\u001b[31mKeyError\u001b[39m                                  Traceback (most recent call last)",
      "\u001b[36mCell\u001b[39m\u001b[36m \u001b[39m\u001b[32mIn[18]\u001b[39m\u001b[32m, line 1\u001b[39m\n\u001b[32m----> \u001b[39m\u001b[32m1\u001b[39m life_exp[\u001b[32m2040\u001b[39m] = \u001b[43mlife_exp\u001b[49m\u001b[43m[\u001b[49m\u001b[33;43m'\u001b[39;49m\u001b[33;43m2040\u001b[39;49m\u001b[33;43m'\u001b[39;49m\u001b[43m]\u001b[49m\n\u001b[32m      2\u001b[39m \u001b[38;5;28mprint\u001b[39m(life_exp)\n",
      "\u001b[31mKeyError\u001b[39m: '2040'"
     ]
    }
   ],
   "source": [
    "life_exp[2040] = life_exp['2040']\n",
    "print(life_exp)"
   ]
  },
  {
   "cell_type": "markdown",
   "metadata": {},
   "source": [
    "- Whether we manually enter a new key:value pair, or copy a value from an existing dictionary entry, we still retain the original dictionary entry (in this case, `'2040'`)"
   ]
  },
  {
   "cell_type": "markdown",
   "metadata": {},
   "source": [
    "### Removing dictionary entries\n",
    "\n",
    "- We can remove a dictionary entry with the **`del`** statement. `del` is a Python *statement* (not a function or method), so it is followed by a space rather than parentheses:\n",
    "\n",
    "~~~python\n",
    "del life_exp['2040']\n",
    "print(life_exp)\n",
    "~~~"
   ]
  },
  {
   "cell_type": "markdown",
   "metadata": {},
   "source": [
    "- We can alternatively remove a dictionary item using the **`.pop()`** method, as we saw last time for lists. \n",
    "- The key for the dictionary entry you wish to delete is the argument you pass to `.pop()`\n",
    "- In this example we first create an erroneous entry, then remove it with `.pop()`:\n",
    "\n",
    "```python\n",
    "# Create incorrect entry\n",
    "life_exp[200] = 79.2\n",
    "print(life_exp)\n",
    "\n",
    "# Remove incorrect entry\n",
    "life_exp.pop(200)\n",
    "print(life_exp)\n",
    "```"
   ]
  },
  {
   "cell_type": "code",
   "execution_count": 42,
   "metadata": {
    "collapsed": false,
    "jupyter": {
     "outputs_hidden": false
    }
   },
   "outputs": [
    {
     "ename": "KeyError",
     "evalue": "'2040'",
     "output_type": "error",
     "traceback": [
      "\u001b[31m---------------------------------------------------------------------------\u001b[39m",
      "\u001b[31mKeyError\u001b[39m                                  Traceback (most recent call last)",
      "\u001b[36mCell\u001b[39m\u001b[36m \u001b[39m\u001b[32mIn[42]\u001b[39m\u001b[32m, line 1\u001b[39m\n\u001b[32m----> \u001b[39m\u001b[32m1\u001b[39m \u001b[38;5;28;01mdel\u001b[39;00m \u001b[43mlife_exp\u001b[49m\u001b[43m[\u001b[49m\u001b[33;43m'\u001b[39;49m\u001b[33;43m2040\u001b[39;49m\u001b[33;43m'\u001b[39;49m\u001b[43m]\u001b[49m\n\u001b[32m      2\u001b[39m \u001b[38;5;28mprint\u001b[39m(life_exp)\n",
      "\u001b[31mKeyError\u001b[39m: '2040'"
     ]
    }
   ],
   "source": [
    "del life_exp['2040']\n",
    "print(life_exp)\n"
   ]
  },
  {
   "cell_type": "markdown",
   "metadata": {},
   "source": [
    "## Dictionaries are unordered\n",
    "- Both strings and lists are *ordered* — the items exist in a string or list in a specific order. This is why we can use integers to index string or list items based on their position\n",
    "- Dictionaries, in contrast, are *unordered*. Because they are not ordered, you can't access values using numerical indexing, only by their keys. For example, this will fail:\n",
    "\n",
    "~~~python\n",
    "life_exp[0]\n",
    "~~~"
   ]
  },
  {
   "cell_type": "code",
   "execution_count": 20,
   "metadata": {
    "collapsed": false,
    "jupyter": {
     "outputs_hidden": false
    }
   },
   "outputs": [
    {
     "ename": "KeyError",
     "evalue": "0",
     "output_type": "error",
     "traceback": [
      "\u001b[31m---------------------------------------------------------------------------\u001b[39m",
      "\u001b[31mKeyError\u001b[39m                                  Traceback (most recent call last)",
      "\u001b[36mCell\u001b[39m\u001b[36m \u001b[39m\u001b[32mIn[20]\u001b[39m\u001b[32m, line 1\u001b[39m\n\u001b[32m----> \u001b[39m\u001b[32m1\u001b[39m \u001b[43mlife_exp\u001b[49m\u001b[43m[\u001b[49m\u001b[32;43m0\u001b[39;49m\u001b[43m]\u001b[49m\n",
      "\u001b[31mKeyError\u001b[39m: 0"
     ]
    }
   ],
   "source": [
    "life_exp[0]"
   ]
  },
  {
   "cell_type": "markdown",
   "metadata": {},
   "source": [
    "- The code above results in a `KeyError`, because Python interprets what's in the square brackets as a dictionary key, not a sequential index. This makes sense, since dictionary keys can be integers."
   ]
  },
  {
   "cell_type": "markdown",
   "metadata": {},
   "source": [
    "## Dictionaries have properties\n",
    "\n",
    "- Like other Python collections, dictionaries have a length property, which is the number of key:value pairs:\n",
    "\n",
    "~~~python\n",
    "len(life_exp)\n",
    "~~~"
   ]
  },
  {
   "cell_type": "code",
   "execution_count": 21,
   "metadata": {
    "collapsed": false,
    "jupyter": {
     "outputs_hidden": false
    }
   },
   "outputs": [
    {
     "data": {
      "text/plain": [
       "6"
      ]
     },
     "execution_count": 21,
     "metadata": {},
     "output_type": "execute_result"
    }
   ],
   "source": [
    "len(life_exp)"
   ]
  },
  {
   "cell_type": "markdown",
   "metadata": {},
   "source": [
    "## Viewing all the keys or values in a dictionary\n",
    "\n",
    "- You can view the entire set of keys in a dictionary like this:\n",
    "\n",
    "~~~python\n",
    "life_exp.keys()\n",
    "~~~"
   ]
  },
  {
   "cell_type": "code",
   "execution_count": 22,
   "metadata": {
    "collapsed": false,
    "jupyter": {
     "outputs_hidden": false
    }
   },
   "outputs": [
    {
     "data": {
      "text/plain": [
       "dict_keys([1900, 1920, 1940, 1960, 1980, 2000])"
      ]
     },
     "execution_count": 22,
     "metadata": {},
     "output_type": "execute_result"
    }
   ],
   "source": [
    "life_exp.keys()"
   ]
  },
  {
   "cell_type": "markdown",
   "metadata": {},
   "source": [
    "- Likewise, you can view all of the values using `.values()`:\n",
    "\n",
    "~~~python\n",
    "life_exp.values()\n",
    "~~~"
   ]
  },
  {
   "cell_type": "code",
   "execution_count": 23,
   "metadata": {
    "collapsed": false,
    "jupyter": {
     "outputs_hidden": false
    }
   },
   "outputs": [
    {
     "data": {
      "text/plain": [
       "dict_values([48.1, 56.6, 64.0, 71.0, 75.2, 79.2])"
      ]
     },
     "execution_count": 23,
     "metadata": {},
     "output_type": "execute_result"
    }
   ],
   "source": [
    "life_exp.values()"
   ]
  },
  {
   "cell_type": "markdown",
   "metadata": {},
   "source": [
    "- You can also view both the keys and values at once, using `.items()`:\n",
    "~~~python\n",
    "life_exp.items()\n",
    "~~~"
   ]
  },
  {
   "cell_type": "code",
   "execution_count": 24,
   "metadata": {
    "collapsed": false,
    "jupyter": {
     "outputs_hidden": false
    }
   },
   "outputs": [
    {
     "data": {
      "text/plain": [
       "dict_items([(1900, 48.1), (1920, 56.6), (1940, 64.0), (1960, 71.0), (1980, 75.2), (2000, 79.2)])"
      ]
     },
     "execution_count": 24,
     "metadata": {},
     "output_type": "execute_result"
    }
   ],
   "source": [
    "life_exp.items()"
   ]
  },
  {
   "cell_type": "markdown",
   "metadata": {},
   "source": [
    "- The output of `.items()` is more complex than just asking Python to print the dictionary, but it's organized in a way that will be useful in later lessons, for example if you want to systematically do the same thing to each item in a a dictionary.\n",
    "\n",
    "**Skill-Testing Question:**\n",
    "What Python type are the results of the `.keys()` and `.values()` methods?"
   ]
  },
  {
   "cell_type": "code",
   "execution_count": null,
   "metadata": {
    "collapsed": false,
    "jupyter": {
     "outputs_hidden": false
    }
   },
   "outputs": [],
   "source": [
    "#built in function?"
   ]
  },
  {
   "cell_type": "markdown",
   "metadata": {},
   "source": [
    "## Finding a key in a dictionary\n",
    "\n",
    "- If your dictionary is very large, it may not be feasible to visually scan through all the entries to determine if a particular key is present. You can use the `in` statement to check whether a key is in a dictionary:\n",
    "\n",
    "~~~python\n",
    "print(1900 in life_exp)\n",
    "print(1800 in life_exp)\n",
    "~~~"
   ]
  },
  {
   "cell_type": "code",
   "execution_count": 25,
   "metadata": {
    "collapsed": false,
    "jupyter": {
     "outputs_hidden": false
    }
   },
   "outputs": [
    {
     "name": "stdout",
     "output_type": "stream",
     "text": [
      "True\n",
      "False\n"
     ]
    }
   ],
   "source": [
    "print(1900 in life_exp)\n",
    "print(1800 in life_exp)"
   ]
  },
  {
   "cell_type": "markdown",
   "metadata": {},
   "source": [
    "## Dictionary values can be any type\n",
    "\n",
    "- While dictionary keys must be an immutable type, such as strings or numbers, values can be any type — including lists, or other dictionaries.\n",
    "\n",
    "- For example, here we create a dictionary in which each key is a country name, and the value is a list of life expectancies for different years:\n",
    "\n",
    "~~~python\n",
    "intl_life_exp = {'Canada':[48.1, 56.6, 64.0, 71.0, 75.2, 79.2],\n",
    "                   'Denmark':[51.3, 57.5, 66.1, 72.0, 74.2, 77.0],\n",
    "                   'Egypt':[32.7, 32.6, 33.8, 46.9, 58.0, 68.7]\n",
    "                  }\n",
    "intl_life_exp['Egypt']\n",
    "~~~"
   ]
  },
  {
   "cell_type": "code",
   "execution_count": 26,
   "metadata": {
    "collapsed": false,
    "jupyter": {
     "outputs_hidden": false
    }
   },
   "outputs": [
    {
     "data": {
      "text/plain": [
       "[32.7, 32.6, 33.8, 46.9, 58.0, 68.7]"
      ]
     },
     "execution_count": 26,
     "metadata": {},
     "output_type": "execute_result"
    }
   ],
   "source": [
    "intl_life_exp = {'canada': [48.1, 56.6, 64.0, 71.0, 75.2, 79.2], 'denmark': [51.3, 57.5, 66.1, 72.0, 74,2, 77.0], 'egypt': [32.7, 32.6, 33.8, 46.9, 58.0, 68.7]}\n",
    "intl_life_exp['egypt']"
   ]
  },
  {
   "cell_type": "markdown",
   "metadata": {},
   "source": [
    "### Nested indexing\n",
    "\n",
    "- `intl_life_exp` is an example of *nesting*, which we saw previously in the lesson on lists. Each dictionary entry's value is a list, which is \"nested\" inside the dictionary. \n",
    "\n",
    "- Since we can index entries in a list, we can use a sequence of specifiers to access a particular element within the list for a specific country's dictionary entry:\n",
    "\n",
    "~~~python\n",
    "intl_life_exp['Denmark'][1]\n",
    "~~~"
   ]
  },
  {
   "cell_type": "code",
   "execution_count": 27,
   "metadata": {
    "collapsed": false,
    "jupyter": {
     "outputs_hidden": false
    }
   },
   "outputs": [
    {
     "data": {
      "text/plain": [
       "57.5"
      ]
     },
     "execution_count": 27,
     "metadata": {},
     "output_type": "execute_result"
    }
   ],
   "source": [
    "intl_life_exp['denmark'][1]"
   ]
  },
  {
   "cell_type": "markdown",
   "metadata": {},
   "source": [
    "### Nested dictionaries\n",
    "- Using lists in the above example has the same limitation talked about at the start of this lesson: we don't know what years correspond to the values in each list.\n",
    "- Using a dictionary of dictionaries solves this problem:\n",
    "\n",
    "~~~python\n",
    "intl_life_exp = {'Canada':{1900:48.1, 1920:56.6, 1940:64.0, 1960:71.0, 1980:75.2, 2000:79.2},\n",
    "                   'Denmark':{1900:51.3, 1920:57.5, 1940:66.1},\n",
    "                   'Egypt':{1900:32.7, 1920:32.6, 1940:33.8, 1980:58.0}\n",
    "                  }\n",
    "intl_life_exp['Egypt']\n",
    "~~~\n",
    "\n",
    "- Note that each nested dictionary is independent of the others, so you don't need to have the same keys in each dictionary."
   ]
  },
  {
   "cell_type": "code",
   "execution_count": 29,
   "metadata": {
    "collapsed": false,
    "jupyter": {
     "outputs_hidden": false
    }
   },
   "outputs": [
    {
     "data": {
      "text/plain": [
       "{1900: 32.7, 1920: 32.6, 1940: 33.8, 1980: 58.0}"
      ]
     },
     "execution_count": 29,
     "metadata": {},
     "output_type": "execute_result"
    }
   ],
   "source": [
    "intl_life_exp = {'canada':{1900:48.1, 1920:56.6, 1940:64.0, 1960:71.0, 1980:75.2, 2000:79.2}, 'denmark':{1900:51.3, 1920:57.5, 1940:66.1}, 'egypt':{1900:32.7, 1920:32.6, 1940:33.8, 1980:58.0}}\n",
    "intl_life_exp['egypt']"
   ]
  },
  {
   "cell_type": "markdown",
   "metadata": {},
   "source": [
    "- We can now obtain values for specific years, within specific countries, using a sequence of keys\n",
    "- The order of keys goes from the outside in as you move from left to right, so `'Denmark'` comes before the year we want to access for Denmark\n",
    "\n",
    "~~~python\n",
    "intl_life_exp['Denmark'][1940]\n",
    "~~~"
   ]
  },
  {
   "cell_type": "code",
   "execution_count": 30,
   "metadata": {
    "collapsed": false,
    "jupyter": {
     "outputs_hidden": false
    }
   },
   "outputs": [
    {
     "data": {
      "text/plain": [
       "66.1"
      ]
     },
     "execution_count": 30,
     "metadata": {},
     "output_type": "execute_result"
    }
   ],
   "source": [
    "intl_life_exp['denmark'][1940]"
   ]
  },
  {
   "cell_type": "markdown",
   "metadata": {},
   "source": [
    "---\n",
    "## Exercises\n"
   ]
  },
  {
   "cell_type": "markdown",
   "metadata": {},
   "source": [
    "### Practice with dictionaries\n",
    "\n",
    "- Create a dictionary called `weekdays` in which the keys are the names of the days of the week from Monday to Friday (not including weekends), and the values are the dates of the days of the week for this week (e.g., if today is Monday, Sept 20, then your value for `Monday` would be `20`)"
   ]
  },
  {
   "cell_type": "code",
   "execution_count": 31,
   "metadata": {
    "collapsed": false,
    "jupyter": {
     "outputs_hidden": false
    }
   },
   "outputs": [],
   "source": [
    "weekdays = {'monday':29, 'tuesday':30, 'wednesday':1, 'thursday':2, 'friday':3}"
   ]
  },
  {
   "cell_type": "markdown",
   "metadata": {},
   "source": [
    "- Using the `weekdays` list you created, print the value for `Wednesday`"
   ]
  },
  {
   "cell_type": "code",
   "execution_count": 32,
   "metadata": {
    "collapsed": false,
    "jupyter": {
     "outputs_hidden": false
    }
   },
   "outputs": [
    {
     "data": {
      "text/plain": [
       "1"
      ]
     },
     "execution_count": 32,
     "metadata": {},
     "output_type": "execute_result"
    }
   ],
   "source": [
    "weekdays['wednesday']"
   ]
  },
  {
   "cell_type": "markdown",
   "metadata": {},
   "source": [
    "### Sorting dictionaries\n",
    "\n",
    "- Although dictionaries are not stored in an ordered fashion, it is possible to view a sorted list of dictionary keys using the `sorted()` function we learned in the previous lesson on lists. Try printing the sorted keys for `weekdays`"
   ]
  },
  {
   "cell_type": "code",
   "execution_count": 35,
   "metadata": {
    "collapsed": false,
    "jupyter": {
     "outputs_hidden": false
    }
   },
   "outputs": [
    {
     "data": {
      "text/plain": [
       "['friday', 'monday', 'thursday', 'tuesday', 'wednesday']"
      ]
     },
     "execution_count": 35,
     "metadata": {},
     "output_type": "execute_result"
    }
   ],
   "source": [
    "sorted(weekdays)\n"
   ]
  },
  {
   "cell_type": "markdown",
   "metadata": {},
   "source": [
    "### Extending dictionaries"
   ]
  },
  {
   "cell_type": "markdown",
   "metadata": {},
   "source": [
    "- Add key:value pairs for the weekend days to `weekdays`"
   ]
  },
  {
   "cell_type": "code",
   "execution_count": 41,
   "metadata": {
    "collapsed": false,
    "jupyter": {
     "outputs_hidden": false
    }
   },
   "outputs": [
    {
     "name": "stdout",
     "output_type": "stream",
     "text": [
      "{'monday': 29, 'tuesday': 30, 'wednesday': 1, 'thursday': 2, 'friday': 3, 'sunday': [5], 'saturday': [4]}\n"
     ]
    }
   ],
   "source": [
    "weekdays['saturday'] = [4]\n",
    "weekdays['sunday'] = [5]\n",
    "\n",
    "print(weekdays)"
   ]
  },
  {
   "cell_type": "markdown",
   "metadata": {},
   "source": [
    "### Deleting dictionary entries\n",
    "\n",
    "- Remove the entry for `Wednesday` from the `weekdays` dictionary"
   ]
  },
  {
   "cell_type": "code",
   "execution_count": 47,
   "metadata": {
    "collapsed": false,
    "jupyter": {
     "outputs_hidden": false
    }
   },
   "outputs": [
    {
     "ename": "KeyError",
     "evalue": "'wednesday'",
     "output_type": "error",
     "traceback": [
      "\u001b[31m---------------------------------------------------------------------------\u001b[39m",
      "\u001b[31mKeyError\u001b[39m                                  Traceback (most recent call last)",
      "\u001b[36mCell\u001b[39m\u001b[36m \u001b[39m\u001b[32mIn[47]\u001b[39m\u001b[32m, line 1\u001b[39m\n\u001b[32m----> \u001b[39m\u001b[32m1\u001b[39m \u001b[38;5;28;01mdel\u001b[39;00m \u001b[43mweekdays\u001b[49m\u001b[43m[\u001b[49m\u001b[33;43m'\u001b[39;49m\u001b[33;43mwednesday\u001b[39;49m\u001b[33;43m'\u001b[39;49m\u001b[43m]\u001b[49m\n\u001b[32m      2\u001b[39m \u001b[38;5;28mprint\u001b[39m(weekdays)\n",
      "\u001b[31mKeyError\u001b[39m: 'wednesday'"
     ]
    }
   ],
   "source": [
    "del weekdays['wednesday']\n",
    "print(weekdays)"
   ]
  },
  {
   "cell_type": "markdown",
   "metadata": {},
   "source": [
    "- Remove the entry for 1980 from the `intl_life_exp` dictionary entry for Canada"
   ]
  },
  {
   "cell_type": "code",
   "execution_count": null,
   "metadata": {
    "collapsed": false,
    "jupyter": {
     "outputs_hidden": false
    }
   },
   "outputs": [],
   "source": []
  },
  {
   "cell_type": "markdown",
   "metadata": {},
   "source": [
    "### Checking dictionaries\n",
    "\n",
    "- Check if the year 1940 is a key in the entry for Denmark in the `intl_life_exp` dictionary"
   ]
  },
  {
   "cell_type": "code",
   "execution_count": null,
   "metadata": {
    "collapsed": false,
    "jupyter": {
     "outputs_hidden": false
    }
   },
   "outputs": [],
   "source": []
  },
  {
   "cell_type": "markdown",
   "metadata": {},
   "source": [
    "- Check if the year 2000 is a key in the entry for Egypt in the `intl_life_exp` dictionary"
   ]
  },
  {
   "cell_type": "code",
   "execution_count": null,
   "metadata": {
    "collapsed": false,
    "jupyter": {
     "outputs_hidden": false
    }
   },
   "outputs": [],
   "source": []
  },
  {
   "cell_type": "markdown",
   "metadata": {},
   "source": [
    "---\n",
    "## Summary of Key Points\n",
    "- Dictionaries are a special type of collection called *mappings*\n",
    "- Each dictionary entry is specified as a key:value pair\n",
    "- Key:value pairs are assigned to variable names within curly brackets: `{}`\n",
    "- Keys must be immutable types, such as strings or numbers. \n",
    "    - However, dictionary values can be any Python type, including lists or other dictionaries\n",
    "- Dictionaries are mutable, in that one can add or delete entries, or change the value of an entry\n",
    "    - You can add a new dictionary entry through assignment\n",
    "    - However, dictionary keys cannot be renamed. Instead, you must delete the old key:value pair and create a new one\n",
    "    - You can delete a dictionary entry using wither the `del` statement or the `.pop()` method\n",
    "- Dictionaries are unordered, so you cannot access an entry based on its serial (sequential) position the way you can entries in a list\n",
    "    - Instead, you access values based on their keys\n",
    "- The length of a dictionary is the number of key:value pairs it contains\n",
    "- You can see a list of all dictionary keys or values using the `.keys()` and `.values()` methods, respectively\n"
   ]
  },
  {
   "cell_type": "code",
   "execution_count": null,
   "metadata": {
    "collapsed": false,
    "jupyter": {
     "outputs_hidden": false
    }
   },
   "outputs": [],
   "source": []
  }
 ],
 "metadata": {
  "kernelspec": {
   "display_name": "Python 3",
   "language": "python",
   "name": "python3"
  },
  "language_info": {
   "codemirror_mode": {
    "name": "ipython",
    "version": 3
   },
   "file_extension": ".py",
   "mimetype": "text/x-python",
   "name": "python",
   "nbconvert_exporter": "python",
   "pygments_lexer": "ipython3",
   "version": "3.12.1"
  }
 },
 "nbformat": 4,
 "nbformat_minor": 4
}
